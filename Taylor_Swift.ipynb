{
 "cells": [
  {
   "cell_type": "markdown",
   "metadata": {},
   "source": [
    "#### Author: Wade Bryson\n",
    "#### GitHub: https://github.com/WadeBryson\n",
    "#### Class: 44-620 Web Mining and Applied NLP\n",
    "#### Final: Custom Project"
   ]
  },
  {
   "cell_type": "markdown",
   "metadata": {},
   "source": [
    "# **<p style=\"text-align: center;\">Taylor Swift Sentiment Analysis</p>**\n",
    "### *<p style=\"text-align: center;\">Attempting to Guess Polarity Scores Based on Most Used Verbs in Lyrics</p>*\n",
    "***"
   ]
  },
  {
   "cell_type": "markdown",
   "metadata": {},
   "source": [
    "## **Project Inspiration**"
   ]
  },
  {
   "cell_type": "markdown",
   "metadata": {},
   "source": [
    "#### Taylor Swift is currently on her sixth concert tour (Summer 2023) and it has been a major topic of discussion across the United States. Her \"Eras Tour\" has been insanely successful early on and the NY Times projects that she might exceed $1 Billion in Sales which would break the all time record held by Elton John. Taylor recently performed in Kansas City and my social media accounts have been flooded with videos and images from friends of mine who attended the concerts. Since we could analyze anything we wanted in our final project, I decided to take a deeper look at the biggest story of the 2023 Summer. "
   ]
  },
  {
   "cell_type": "markdown",
   "metadata": {},
   "source": [
    "## **Project Breakdown**"
   ]
  },
  {
   "cell_type": "markdown",
   "metadata": {},
   "source": [
    "#### Taylor Swift has decribed the \"Eras Tour\" as a journey through all of the different eras of her musical career. I am going to look at her top 5 Songs according to the Billboab Top 100. I am going to put the old saying **\"actions speak louder than words\"** to the test. I am going to see if I can guess the polarity score for each song based on the top 5 most used verbs in the lyrics.\n",
    "\n",
    "#### **Process:**\n",
    "#### 1. Access the lyrics from the free API lyricsgenius.\n",
    "#### 2. Find the 5 most used verbs in her song lyrics.\n",
    "#### 3. Attempt to guess the polarity score based on the 5 most used verbs.\n",
    "#### 4. Find the polarity score for that song and compare to my guess.\n",
    "\n",
    "#### **Polarity Score** - Polarity Scores range from -1 to 1. -1 indicates that the song has a negative tone from the speaker to the subject and 1 indicates that the song has a positive tone from the speaker to the subject."
   ]
  },
  {
   "cell_type": "code",
   "execution_count": null,
   "metadata": {},
   "outputs": [],
   "source": [
    "# Imports needed\n",
    "from spacytextblob.spacytextblob import SpacyTextBlob\n",
    "from collections import Counter\n",
    "import pickle, requests, spacy, pathlib, lyricsgenius, json"
   ]
  },
  {
   "cell_type": "markdown",
   "metadata": {},
   "source": [
    "#### **Functions Used**"
   ]
  },
  {
   "cell_type": "code",
   "execution_count": null,
   "metadata": {},
   "outputs": [],
   "source": [
    "# This function grabs the song from Lyrics Genius and writes it as a json document\n",
    "def write_song_from_api_to_JSON(artist, song, filename):\n",
    "    genius = lyricsgenius.Genius(\"lRsxb5ZjuM5SVrA2OYk-MpRv7LJZL806cKMfhhhBuaaplNYZQteRazYt-8XOJNiz\")\n",
    "    artist = genius.search_artist(artist, max_songs=1, sort=\"title\")\n",
    "    song = artist.song(song)\n",
    "    with open(filename, 'w') as filename:\n",
    "        json.dump(song.lyrics, filename)\n",
    "\n",
    "# This function finds the top 5 verbs used in a document\n",
    "def frequent_verbs(filename):\n",
    "    nlp = spacy.load('en_core_web_sm')\n",
    "    nlp.add_pipe('spacytextblob')\n",
    "    with open(filename, 'r') as f:\n",
    "        lyrics = json.load(f)\n",
    "        doc = nlp(lyrics)\n",
    "    verbs = ['VERB']\n",
    "    verb_tokens = [token.text.lower() for token in doc if not (token.is_space or token.is_punct or token.is_stop or token.pos_ not in verbs)]\n",
    "    verb_count = Counter(verb_tokens)\n",
    "    verb_top_5 = verb_count.most_common(5)\n",
    "    print('The top 5 verbs and their frequency are:')\n",
    "    for token, count in verb_top_5:\n",
    "        print(f'{token} - {count}')\n",
    "\n",
    "# This function uses Spacy to perform Sentiment Analysis and finds the Polarity Score of the text\n",
    "def polarity_score_from_lyrics(song, filename):\n",
    "    nlp = spacy.load('en_core_web_sm')\n",
    "    nlp.add_pipe('spacytextblob')\n",
    "    with open(filename, 'r') as f:\n",
    "        lyrics = json.load(f)\n",
    "    doc = nlp(lyrics)\n",
    "    polarity = doc._.blob.polarity\n",
    "    print(f'{song} Polarity: {polarity}')"
   ]
  },
  {
   "cell_type": "markdown",
   "metadata": {},
   "source": [
    "## **Song #5 - I Knew You Were Trouble**\n",
    "#### This song was debuted in 2012 at No. 3 on the Hot 100. It peaked at No. 2."
   ]
  },
  {
   "cell_type": "code",
   "execution_count": 87,
   "metadata": {},
   "outputs": [
    {
     "name": "stdout",
     "output_type": "stream",
     "text": [
      "Searching for songs by Taylor Swift...\n",
      "\n",
      "\"1989 Interview with Paul McGuire\" is not valid. Skipping.\n",
      "\"1989 [Liner Notes]\" is not valid. Skipping.\n",
      "\"1989 Tour Setlist\" is not valid. Skipping.\n",
      "Song 1: \"1989 World Tour Dates\"\n",
      "\n",
      "Reached user-specified song limit (1).\n",
      "Done. Found 1 songs.\n",
      "Searching for \"I Knew You Were Trouble\" by Taylor Swift...\n",
      "Done.\n"
     ]
    }
   ],
   "source": [
    "write_song_from_api_to_JSON(\"Taylor Swift\", \"I Knew You Were Trouble\", \"I_Knew_You_Were_Trouble.json\")"
   ]
  },
  {
   "cell_type": "markdown",
   "metadata": {},
   "source": [
    "#### **I Knew You Were Trouble Most Used Verbs**"
   ]
  },
  {
   "cell_type": "code",
   "execution_count": 88,
   "metadata": {},
   "outputs": [
    {
     "name": "stdout",
     "output_type": "stream",
     "text": [
      "The top 5 verbs and their frequency are:\n",
      "knew - 10\n",
      "walked - 8\n",
      "flew - 6\n",
      "found - 3\n",
      "lying - 3\n"
     ]
    }
   ],
   "source": [
    "frequent_verbs('I_Knew_You_Were_Trouble.json')"
   ]
  },
  {
   "cell_type": "markdown",
   "metadata": {},
   "source": [
    "#### **My thoughts on the I Knew You Were Trouble verbs:**\n",
    "#### Most of these verbs are neutral except for lying. Lying is a pretty strong negative word so I am going to lean that way.\n",
    "#### **Guess: Moderately Negative -0.4**"
   ]
  },
  {
   "cell_type": "code",
   "execution_count": 89,
   "metadata": {},
   "outputs": [
    {
     "name": "stdout",
     "output_type": "stream",
     "text": [
      "I Knew You Were Trouble Polarity: -0.17410074773711134\n"
     ]
    }
   ],
   "source": [
    "\n",
    "polarity_score_from_lyrics('I Knew You Were Trouble', 'I_Knew_You_Were_Trouble.json')"
   ]
  },
  {
   "cell_type": "markdown",
   "metadata": {},
   "source": [
    "#### I was close but it looks like I predicted a little more negative than the tone of the song scored.\n",
    "***"
   ]
  },
  {
   "cell_type": "markdown",
   "metadata": {},
   "source": [
    "## **Song #4 - Love Story**\n",
    "#### This song peaked at No 4 in 2009."
   ]
  },
  {
   "cell_type": "code",
   "execution_count": 91,
   "metadata": {},
   "outputs": [
    {
     "name": "stdout",
     "output_type": "stream",
     "text": [
      "Searching for songs by Taylor Swift...\n",
      "\n",
      "\"1989 Interview with Paul McGuire\" is not valid. Skipping.\n",
      "\"1989 [Liner Notes]\" is not valid. Skipping.\n",
      "\"1989 Tour Setlist\" is not valid. Skipping.\n",
      "Song 1: \"1989 World Tour Dates\"\n",
      "\n",
      "Reached user-specified song limit (1).\n",
      "Done. Found 1 songs.\n",
      "Searching for \"Love Story\" by Taylor Swift...\n",
      "Done.\n"
     ]
    }
   ],
   "source": [
    "write_song_from_api_to_JSON(\"Taylor Swift\", \"Love Story\", \"Love_Story.json\")"
   ]
  },
  {
   "cell_type": "markdown",
   "metadata": {},
   "source": [
    "#### **Love Story Verbs**"
   ]
  },
  {
   "cell_type": "code",
   "execution_count": 92,
   "metadata": {},
   "outputs": [
    {
     "name": "stdout",
     "output_type": "stream",
     "text": [
      "The top 5 verbs and their frequency are:\n",
      "said - 6\n",
      "waiting - 4\n",
      "know - 3\n",
      "saw - 2\n",
      "close - 2\n"
     ]
    }
   ],
   "source": [
    "frequent_verbs('Love_Story.json')"
   ]
  },
  {
   "cell_type": "markdown",
   "metadata": {},
   "source": [
    "#### **My thoughts on the Love Story verbs:**\n",
    "#### They all 5 look very neutral to me. \n",
    "#### **Guess: Neutral 0.05**"
   ]
  },
  {
   "cell_type": "code",
   "execution_count": 93,
   "metadata": {},
   "outputs": [
    {
     "name": "stdout",
     "output_type": "stream",
     "text": [
      "Love Story Polarity: 0.04791666666666666\n"
     ]
    }
   ],
   "source": [
    "polarity_score_from_lyrics('Love Story', 'Love_Story.json')"
   ]
  },
  {
   "cell_type": "markdown",
   "metadata": {},
   "source": [
    "#### Ayyyy let's go! I will admit that I remember from the last time I ran polarity scores that almost all of the songs were around this 0.05 - 0.1 range. So when it doubt that is probably where I will guess.\n",
    "***"
   ]
  },
  {
   "cell_type": "markdown",
   "metadata": {},
   "source": [
    "## **Song #3 - Blank Space**\n",
    "#### This song spent seven weeks at the top of the Hot 100 in 2014-2015."
   ]
  },
  {
   "cell_type": "code",
   "execution_count": 94,
   "metadata": {},
   "outputs": [
    {
     "name": "stdout",
     "output_type": "stream",
     "text": [
      "Searching for songs by Taylor Swift...\n",
      "\n",
      "\"1989 Interview with Paul McGuire\" is not valid. Skipping.\n",
      "\"1989 [Liner Notes]\" is not valid. Skipping.\n",
      "\"1989 Tour Setlist\" is not valid. Skipping.\n",
      "Song 1: \"1989 World Tour Dates\"\n",
      "\n",
      "Reached user-specified song limit (1).\n",
      "Done. Found 1 songs.\n",
      "Searching for \"Blank Space\" by Taylor Swift...\n",
      "Done.\n"
     ]
    }
   ],
   "source": [
    "write_song_from_api_to_JSON(\"Taylor Swift\", \"Blank Space\", \"Blank_Space.json\")"
   ]
  },
  {
   "cell_type": "markdown",
   "metadata": {},
   "source": [
    "#### **Blank Space Verbs**"
   ]
  },
  {
   "cell_type": "code",
   "execution_count": 95,
   "metadata": {},
   "outputs": [
    {
     "name": "stdout",
     "output_type": "stream",
     "text": [
      "The top 5 verbs and their frequency are:\n",
      "tell - 9\n",
      "got - 9\n",
      "love - 7\n",
      "gon - 6\n",
      "know - 4\n"
     ]
    }
   ],
   "source": [
    "frequent_verbs('Blank_Space.json')"
   ]
  },
  {
   "cell_type": "markdown",
   "metadata": {},
   "source": [
    "#### **My thoughts on the Blank Space verbs:**\n",
    "#### I have no clue what gon means. Gotta love a glitch in the system. Love and got are both in the top 3. If you combine them \"got love\" feels it is going to push this song in the positive direction.\n",
    "#### **Guess: Moderately Positive 0.3**"
   ]
  },
  {
   "cell_type": "code",
   "execution_count": 96,
   "metadata": {},
   "outputs": [
    {
     "name": "stdout",
     "output_type": "stream",
     "text": [
      "Blank Space Polarity: -0.04315483603154834\n"
     ]
    }
   ],
   "source": [
    "polarity_score_from_lyrics('Blank Space', 'Blank_Space.json')"
   ]
  },
  {
   "cell_type": "markdown",
   "metadata": {},
   "source": [
    "#### I was expecting it to be slightly positive but it looks like it was neutral. \n",
    "***"
   ]
  },
  {
   "cell_type": "markdown",
   "metadata": {},
   "source": [
    "## **Song #2 - You Belong With Me**\n",
    "#### In 2009 this became the first country song to top the all-genre Radio Songs Chart."
   ]
  },
  {
   "cell_type": "code",
   "execution_count": 97,
   "metadata": {},
   "outputs": [
    {
     "name": "stdout",
     "output_type": "stream",
     "text": [
      "Searching for songs by Taylor Swift...\n",
      "\n",
      "\"1989 Interview with Paul McGuire\" is not valid. Skipping.\n",
      "\"1989 [Liner Notes]\" is not valid. Skipping.\n",
      "\"1989 Tour Setlist\" is not valid. Skipping.\n",
      "Song 1: \"1989 World Tour Dates\"\n",
      "\n",
      "Reached user-specified song limit (1).\n",
      "Done. Found 1 songs.\n",
      "Searching for \"You Belong With Me\" by Taylor Swift...\n",
      "Done.\n"
     ]
    }
   ],
   "source": [
    "write_song_from_api_to_JSON(\"Taylor Swift\", \"You Belong With Me\", \"You_Belong_With_Me.json\")"
   ]
  },
  {
   "cell_type": "markdown",
   "metadata": {},
   "source": [
    "#### **You Belong With Me Verbs**"
   ]
  },
  {
   "cell_type": "code",
   "execution_count": 98,
   "metadata": {},
   "outputs": [
    {
     "name": "stdout",
     "output_type": "stream",
     "text": [
      "The top 5 verbs and their frequency are:\n",
      "belong - 12\n",
      "know - 8\n",
      "understands - 3\n",
      "wears - 2\n",
      "wear - 2\n"
     ]
    }
   ],
   "source": [
    "frequent_verbs('You_Belong_With_Me.json')"
   ]
  },
  {
   "cell_type": "markdown",
   "metadata": {},
   "source": [
    "#### **My thoughts on the You Belong With Me verbs:**\n",
    "#### Belong is a word that go either way. Belonging to something is a positive, but if it says don't belong then that could be negative. I feel like this is the most neutral set of verbs I've had.\n",
    "#### **Guess: Neutral 0.02**"
   ]
  },
  {
   "cell_type": "code",
   "execution_count": 99,
   "metadata": {},
   "outputs": [
    {
     "name": "stdout",
     "output_type": "stream",
     "text": [
      "You Belong With Me Polarity: 0.20461988304093567\n"
     ]
    }
   ],
   "source": [
    "polarity_score_from_lyrics('You Belong With Me', 'You_Belong_With_Me.json')"
   ]
  },
  {
   "cell_type": "markdown",
   "metadata": {},
   "source": [
    "#### I should have put one less zero in my guess... 0.2 is pretty neutral still so I am counting this one as a win.\n",
    "***"
   ]
  },
  {
   "cell_type": "markdown",
   "metadata": {},
   "source": [
    "## **Song #1 - Shake It Off**\n",
    "#### This swong was Taylor Swift's most popular song of her career. It stayed atop the Top 100 for 4 weeks and it stayed in the top 10 for 6 months."
   ]
  },
  {
   "cell_type": "code",
   "execution_count": 100,
   "metadata": {},
   "outputs": [
    {
     "name": "stdout",
     "output_type": "stream",
     "text": [
      "Searching for songs by Taylor Swift...\n",
      "\n",
      "\"1989 Interview with Paul McGuire\" is not valid. Skipping.\n",
      "\"1989 [Liner Notes]\" is not valid. Skipping.\n",
      "\"1989 Tour Setlist\" is not valid. Skipping.\n",
      "Song 1: \"1989 World Tour Dates\"\n",
      "\n",
      "Reached user-specified song limit (1).\n",
      "Done. Found 1 songs.\n",
      "Searching for \"Shake It Off\" by Taylor Swift...\n",
      "Done.\n"
     ]
    }
   ],
   "source": [
    "write_song_from_api_to_JSON(\"Taylor Swift\", \"Shake It Off\", \"Shake_It_Off.json\")"
   ]
  },
  {
   "cell_type": "code",
   "execution_count": 101,
   "metadata": {},
   "outputs": [
    {
     "name": "stdout",
     "output_type": "stream",
     "text": [
      "The top 5 verbs and their frequency are:\n",
      "shake - 70\n",
      "gon - 22\n",
      "hate - 16\n",
      "break - 14\n",
      "play - 12\n"
     ]
    }
   ],
   "source": [
    "frequent_verbs('Shake_It_Off.json')"
   ]
  },
  {
   "cell_type": "markdown",
   "metadata": {},
   "source": [
    "#### **My thoughts on the Shake It Off verbs:**\n",
    "#### Gon makes its return and these numbers are significantly higher than the other songs. Hate jumps out as a negative word, but when I combine that with the top verb shake I am going to predict that the song has a positive tone because they are \"shaking off the hate\".\n",
    "#### **Guess: Slight Positive 0.4**"
   ]
  },
  {
   "cell_type": "code",
   "execution_count": 102,
   "metadata": {},
   "outputs": [
    {
     "name": "stdout",
     "output_type": "stream",
     "text": [
      "Shake It Off Polarity: -0.45602152477152486\n"
     ]
    }
   ],
   "source": [
    "polarity_score_from_lyrics('Shake It Off', 'Shake_It_Off.json')"
   ]
  },
  {
   "cell_type": "markdown",
   "metadata": {},
   "source": [
    "#### Wow I ended with my worst guess. I guess I should have stuck to the verbs and not worried about factoring in the title of the song also.\n",
    "***"
   ]
  },
  {
   "cell_type": "markdown",
   "metadata": {},
   "source": [
    "## **Conclusion**"
   ]
  },
  {
   "cell_type": "markdown",
   "metadata": {},
   "source": [
    "#### Earlier on in this course we had a regular project where Sentiment Analysis and Polarity Scores were introduced. On that assignment I found the Polarity Scores for 5 of the current top Country Songs. While I was finding them I was very surprised at how neutral their scores were everytime and how different their scores were than what I anticipated. While it was a small sample size, I do think looking at the top 5 verbs of Taylor Swift songs gave me the ability to guess the polarity score in a more accurate manner than just purely listening to the song. I was still a long way off and still have a long way to go to completely understand Sentiment Analysis and Polarity Scores. But this was a fun project to expand my understanding."
   ]
  }
 ],
 "metadata": {
  "kernelspec": {
   "display_name": ".venv",
   "language": "python",
   "name": "python3"
  },
  "language_info": {
   "codemirror_mode": {
    "name": "ipython",
    "version": 3
   },
   "file_extension": ".py",
   "mimetype": "text/x-python",
   "name": "python",
   "nbconvert_exporter": "python",
   "pygments_lexer": "ipython3",
   "version": "3.11.3"
  },
  "orig_nbformat": 4
 },
 "nbformat": 4,
 "nbformat_minor": 2
}
