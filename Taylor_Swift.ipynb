{
 "cells": [
  {
   "cell_type": "code",
   "execution_count": 64,
   "metadata": {},
   "outputs": [],
   "source": [
    "from spacytextblob.spacytextblob import SpacyTextBlob\n",
    "from collections import Counter\n",
    "import pickle, requests, spacy, pathlib, lyricsgenius, json"
   ]
  },
  {
   "cell_type": "code",
   "execution_count": 65,
   "metadata": {},
   "outputs": [
    {
     "name": "stdout",
     "output_type": "stream",
     "text": [
      "Searching for songs by Taylor Swift...\n",
      "\n",
      "\"1989 Interview with Paul McGuire\" is not valid. Skipping.\n",
      "\"1989 [Liner Notes]\" is not valid. Skipping.\n",
      "\"1989 Tour Setlist\" is not valid. Skipping.\n",
      "Song 1: \"1989 World Tour Dates\"\n",
      "\n",
      "Reached user-specified song limit (1).\n",
      "Done. Found 1 songs.\n",
      "Searching for \"I Knew You Were Trouble\" by Taylor Swift...\n",
      "Done.\n"
     ]
    }
   ],
   "source": [
    "from clean_functions import write_song_from_api_to_JSON\n",
    "\n",
    "write_song_from_api_to_JSON(\"Taylor Swift\", \"I Knew You Were Trouble\", \"I_Knew_You_Were_Trouble.json\")"
   ]
  },
  {
   "cell_type": "code",
   "execution_count": 66,
   "metadata": {},
   "outputs": [
    {
     "name": "stdout",
     "output_type": "stream",
     "text": [
      "The top 5 verbs and their frequency are:\n",
      "knew - 10\n",
      "walked - 8\n",
      "flew - 6\n",
      "found - 3\n",
      "lying - 3\n"
     ]
    }
   ],
   "source": [
    "def frequent_verbs(filename):\n",
    "    nlp = spacy.load('en_core_web_sm')\n",
    "    nlp.add_pipe('spacytextblob')\n",
    "    with open(filename, 'r') as f:\n",
    "        lyrics = json.load(f)\n",
    "        doc = nlp(lyrics)\n",
    "    verbs = ['VERB']\n",
    "    verb_tokens = [token.text.lower() for token in doc if not (token.is_space or token.is_punct or token.is_stop or token.pos_ not in verbs)]\n",
    "    verb_count = Counter(verb_tokens)\n",
    "    verb_top_5 = verb_count.most_common(5)\n",
    "    print('The top 5 verbs and their frequency are:')\n",
    "    for token, count in verb_top_5:\n",
    "        print(f'{token} - {count}')\n",
    "\n",
    "frequent_verbs('I_Knew_You_Were_Trouble.json')\n"
   ]
  },
  {
   "cell_type": "code",
   "execution_count": 67,
   "metadata": {},
   "outputs": [
    {
     "name": "stdout",
     "output_type": "stream",
     "text": [
      "I Knew You Were Trouble Polarity: -0.17410074773711134\n"
     ]
    }
   ],
   "source": [
    "\n",
    "from clean_functions import polarity_score_from_lyrics\n",
    "\n",
    "polarity_score_from_lyrics('I Knew You Were Trouble', 'I_Knew_You_Were_Trouble.json')"
   ]
  }
 ],
 "metadata": {
  "kernelspec": {
   "display_name": ".venv",
   "language": "python",
   "name": "python3"
  },
  "language_info": {
   "codemirror_mode": {
    "name": "ipython",
    "version": 3
   },
   "file_extension": ".py",
   "mimetype": "text/x-python",
   "name": "python",
   "nbconvert_exporter": "python",
   "pygments_lexer": "ipython3",
   "version": "3.11.3"
  },
  "orig_nbformat": 4
 },
 "nbformat": 4,
 "nbformat_minor": 2
}
