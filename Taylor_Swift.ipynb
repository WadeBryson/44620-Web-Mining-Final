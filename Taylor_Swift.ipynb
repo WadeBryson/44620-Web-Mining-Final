{
 "cells": [
  {
   "cell_type": "markdown",
   "metadata": {},
   "source": [
    "#### Author: Wade Bryson\n",
    "#### GitHub: https://github.com/WadeBryson\n",
    "#### Class: 44-620 Web Mining and Applied NLP\n",
    "#### Final: Custom Project"
   ]
  },
  {
   "cell_type": "markdown",
   "metadata": {},
   "source": [
    "# **<p style=\"text-align: center;\">Taylor Swift Sentiment Analysis</p>**\n",
    "### *<p style=\"text-align: center;\">Attempting to Guess Sentiment Analysis Based on Most Used Verbs in Lyrics</p>*\n",
    "***"
   ]
  },
  {
   "cell_type": "markdown",
   "metadata": {},
   "source": [
    "## **Project Inspiration**"
   ]
  },
  {
   "cell_type": "markdown",
   "metadata": {},
   "source": [
    "#### Taylor Swift is currently on her sixth concert tour (Summer 2023) and it has been a major topic of discussion across the United States. Her \"Eras Tour\" has been insanely successful early on and the NY Times projects that she might exceed $1 Billion in Sales which would break the all time record held by Elton John. Taylor recently performed in Kansas City and my social media accounts have been flooded with videos and images from friends of mine who attended the concerts. Since we could analyze anything we wanted in our final project, I decided to take a deeper look at the biggest story of the 2023 Summer. "
   ]
  },
  {
   "cell_type": "markdown",
   "metadata": {},
   "source": [
    "## **Project Breakdown**"
   ]
  },
  {
   "cell_type": "markdown",
   "metadata": {},
   "source": [
    "#### Taylor Swift has decribed the \"Eras Tour\" as a journey through all of the different eras of her musical career. I am going to look at her top 5 Songs according to the Billboab Top 100. I am going to put the old saying **\"actions speak louder than words\"** to the test. I am going to see if I can guess the polarity score for each song based on the top 5 most used verbs in the lyrics.\n",
    "\n",
    "#### **Process:**\n",
    "#### 1. Access the lyrics from the free API lyricsgenius.\n",
    "#### 2. Find the 5 most used verbs in her song lyrics.\n",
    "#### 3. Attempt to guess the polarity score based on the 5 most used verbs.\n",
    "#### 4. Find the polarity score for that song and compare to my guess.\n",
    "\n",
    "#### **Polarity Score** - Polarity Scores range from -1 to 1. -1 indicates that the song has a negative tone from the speaker to the subject and 1 indicates that the song has a positive tone from the speaker to the subject."
   ]
  },
  {
   "cell_type": "code",
   "execution_count": 64,
   "metadata": {},
   "outputs": [],
   "source": [
    "# Imports needed\n",
    "from spacytextblob.spacytextblob import SpacyTextBlob\n",
    "from collections import Counter\n",
    "import pickle, requests, spacy, pathlib, lyricsgenius, json"
   ]
  },
  {
   "cell_type": "markdown",
   "metadata": {},
   "source": [
    "## **Song #5 - I Knew You Were Trouble**\n",
    "#### This song was debuted in 2012 at No. 3 on the Hot 100. It peaked at No. 2."
   ]
  },
  {
   "cell_type": "code",
   "execution_count": 65,
   "metadata": {},
   "outputs": [
    {
     "name": "stdout",
     "output_type": "stream",
     "text": [
      "Searching for songs by Taylor Swift...\n",
      "\n",
      "\"1989 Interview with Paul McGuire\" is not valid. Skipping.\n",
      "\"1989 [Liner Notes]\" is not valid. Skipping.\n",
      "\"1989 Tour Setlist\" is not valid. Skipping.\n",
      "Song 1: \"1989 World Tour Dates\"\n",
      "\n",
      "Reached user-specified song limit (1).\n",
      "Done. Found 1 songs.\n",
      "Searching for \"I Knew You Were Trouble\" by Taylor Swift...\n",
      "Done.\n"
     ]
    }
   ],
   "source": [
    "from clean_functions import write_song_from_api_to_JSON\n",
    "\n",
    "write_song_from_api_to_JSON(\"Taylor Swift\", \"I Knew You Were Trouble\", \"I_Knew_You_Were_Trouble.json\")"
   ]
  },
  {
   "cell_type": "markdown",
   "metadata": {},
   "source": [
    "#### **I Knew You Were Trouble Most Used Verbs**"
   ]
  },
  {
   "cell_type": "code",
   "execution_count": 71,
   "metadata": {},
   "outputs": [
    {
     "name": "stdout",
     "output_type": "stream",
     "text": [
      "The top 5 verbs and their frequency are:\n",
      "knew - 10\n",
      "walked - 8\n",
      "flew - 6\n",
      "found - 3\n",
      "lying - 3\n"
     ]
    }
   ],
   "source": [
    "def frequent_verbs(filename):\n",
    "    nlp = spacy.load('en_core_web_sm')\n",
    "    nlp.add_pipe('spacytextblob')\n",
    "    with open(filename, 'r') as f:\n",
    "        lyrics = json.load(f)\n",
    "        doc = nlp(lyrics)\n",
    "    verbs = ['VERB']\n",
    "    verb_tokens = [token.text.lower() for token in doc if not (token.is_space or token.is_punct or token.is_stop or token.pos_ not in verbs)]\n",
    "    verb_count = Counter(verb_tokens)\n",
    "    verb_top_5 = verb_count.most_common(5)\n",
    "    print('The top 5 verbs and their frequency are:')\n",
    "    for token, count in verb_top_5:\n",
    "        print(f'{token} - {count}')\n",
    "\n",
    "frequent_verbs('I_Knew_You_Were_Trouble.json')\n"
   ]
  },
  {
   "cell_type": "markdown",
   "metadata": {},
   "source": [
    "#### **My thoughts on the I Knew You Were Trouble verbs:**\n",
    "#### knew: neutral\n",
    "#### walked: neutral\n",
    "#### flew: Now I am re-thinking my walked choice. Does walk = slow = negative? Flew = fast = positive?.....\n",
    "#### found: slightly positive\n",
    "#### lying: NEGATIVE It only appeared 3 times but I think is a much stronger verb than any of the others on the list.\n",
    "#### **Guess: Moderately Negative -0.4**"
   ]
  },
  {
   "cell_type": "code",
   "execution_count": 67,
   "metadata": {},
   "outputs": [
    {
     "name": "stdout",
     "output_type": "stream",
     "text": [
      "I Knew You Were Trouble Polarity: -0.17410074773711134\n"
     ]
    }
   ],
   "source": [
    "\n",
    "from clean_functions import polarity_score_from_lyrics\n",
    "\n",
    "polarity_score_from_lyrics('I Knew You Were Trouble', 'I_Knew_You_Were_Trouble.json')"
   ]
  },
  {
   "cell_type": "markdown",
   "metadata": {},
   "source": [
    "#### I was close but it looks like I predicted a little more negative than the tone of the song scored."
   ]
  }
 ],
 "metadata": {
  "kernelspec": {
   "display_name": ".venv",
   "language": "python",
   "name": "python3"
  },
  "language_info": {
   "codemirror_mode": {
    "name": "ipython",
    "version": 3
   },
   "file_extension": ".py",
   "mimetype": "text/x-python",
   "name": "python",
   "nbconvert_exporter": "python",
   "pygments_lexer": "ipython3",
   "version": "3.11.3"
  },
  "orig_nbformat": 4
 },
 "nbformat": 4,
 "nbformat_minor": 2
}
